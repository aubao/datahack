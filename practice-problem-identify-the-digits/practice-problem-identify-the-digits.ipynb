{
 "cells": [
  {
   "cell_type": "code",
   "execution_count": 15,
   "metadata": {},
   "outputs": [],
   "source": [
    "import os\n",
    "import numpy as np\n",
    "import pandas as pd\n",
    "from scipy.misc import imread\n",
    "from sklearn.metrics import accuracy_score\n",
    "from keras.models import Sequential\n",
    "from keras.layers import Dense,Conv2D,MaxPooling2D\n",
    "from keras.layers import Dropout,Flatten\n",
    "import matplotlib.pyplot as plt"
   ]
  },
  {
   "cell_type": "code",
   "execution_count": 2,
   "metadata": {
    "collapsed": true
   },
   "outputs": [],
   "source": [
    "def show_train_history(trainHistory, train, validation):\n",
    "    plt.plot(trainHistory.history[train])\n",
    "    plt.plot(trainHistory.history[validation])\n",
    "    plt.title('Train History')\n",
    "    plt.ylabel(train)\n",
    "    plt.xlabel('Epoch')\n",
    "    plt.legend(['train', 'validation'], loc='upper left')\n",
    "    plt.show()"
   ]
  },
  {
   "cell_type": "code",
   "execution_count": 7,
   "metadata": {},
   "outputs": [
    {
     "data": {
      "text/plain": [
       "True"
      ]
     },
     "execution_count": 7,
     "metadata": {},
     "output_type": "execute_result"
    }
   ],
   "source": [
    "root_dir = os.path.abspath(r'D:/datahack/')\n",
    "data_dir = os.path.join(root_dir, 'digit')\n",
    "# check for existence\n",
    "os.path.exists(root_dir) & os.path.exists(data_dir)"
   ]
  },
  {
   "cell_type": "code",
   "execution_count": 8,
   "metadata": {
    "collapsed": true
   },
   "outputs": [],
   "source": [
    "train = pd.read_csv(os.path.join(data_dir, 'Train', 'train.csv'))\n",
    "test = pd.read_csv(os.path.join(data_dir, 'test.csv'))"
   ]
  },
  {
   "cell_type": "code",
   "execution_count": 9,
   "metadata": {
    "collapsed": true
   },
   "outputs": [],
   "source": [
    "temp = []\n",
    "for img_name in train.filename:\n",
    "    image_path = os.path.join(data_dir, 'Train', 'Images', 'train', img_name)\n",
    "    img = imread(image_path, flatten=True)\n",
    "    img = img.astype('float32')\n",
    "    temp.append(img)    \n",
    "train_x = np.stack(temp)\n",
    "train_x /= 255.0 \n",
    "#train_x = train_x.reshape(-1, 784).astype('float32')\n",
    "train_x = train_x.reshape(train_x.shape[0], 1, 28, 28) #for conv2d\n",
    "train_y = keras.utils.np_utils.to_categorical(train.label.values)\n",
    "\n",
    "temp = []\n",
    "for img_name in test.filename:\n",
    "    image_path = os.path.join(data_dir, 'Train', 'Images', 'test', img_name)\n",
    "    img = imread(image_path, flatten=True)\n",
    "    img = img.astype('float32')\n",
    "    temp.append(img)    \n",
    "test_x = np.stack(temp)\n",
    "test_x /= 255.0\n",
    "#test_x = test_x.reshape(-1, 784).astype('float32') \n",
    "test_x = test_x.reshape(test_x.shape[0], 1, 28, 28) #for conv2d"
   ]
  },
  {
   "cell_type": "code",
   "execution_count": 12,
   "metadata": {},
   "outputs": [
    {
     "name": "stdout",
     "output_type": "stream",
     "text": [
      "_________________________________________________________________\n",
      "Layer (type)                 Output Shape              Param #   \n",
      "=================================================================\n",
      "conv2d_1 (Conv2D)            (None, 32, 26, 26)        320       \n",
      "_________________________________________________________________\n",
      "max_pooling2d_1 (MaxPooling2 (None, 16, 13, 26)        0         \n",
      "_________________________________________________________________\n",
      "conv2d_2 (Conv2D)            (None, 14, 11, 64)        15040     \n",
      "_________________________________________________________________\n",
      "max_pooling2d_2 (MaxPooling2 (None, 7, 5, 64)          0         \n",
      "_________________________________________________________________\n",
      "dropout_1 (Dropout)          (None, 7, 5, 64)          0         \n",
      "_________________________________________________________________\n",
      "flatten_1 (Flatten)          (None, 2240)              0         \n",
      "_________________________________________________________________\n",
      "dense_1 (Dense)              (None, 128)               286848    \n",
      "_________________________________________________________________\n",
      "dropout_2 (Dropout)          (None, 128)               0         \n",
      "_________________________________________________________________\n",
      "dense_2 (Dense)              (None, 10)                1290      \n",
      "=================================================================\n",
      "Total params: 303,498\n",
      "Trainable params: 303,498\n",
      "Non-trainable params: 0\n",
      "_________________________________________________________________\n",
      "None\n"
     ]
    }
   ],
   "source": [
    "#add model\n",
    "model = Sequential()\n",
    "model.add(Conv2D(32, (3, 3), activation='relu', input_shape=(1,28,28), data_format='channels_first'))\n",
    "model.add(MaxPooling2D(pool_size=(2, 2)))\n",
    "model.add(Conv2D(64, (3, 3), activation='relu'))\n",
    "model.add(MaxPooling2D(pool_size=(2, 2)))\n",
    "model.add(Dropout(0.5))\n",
    "model.add(Flatten())\n",
    "model.add(Dense(128, activation='relu'))\n",
    "model.add(Dropout(0.5))\n",
    "model.add(Dense(units=10, kernel_initializer='normal', activation='softmax'))\n",
    "print(model.summary())"
   ]
  },
  {
   "cell_type": "code",
   "execution_count": 13,
   "metadata": {},
   "outputs": [
    {
     "name": "stdout",
     "output_type": "stream",
     "text": [
      "Train on 44100 samples, validate on 4900 samples\n",
      "Epoch 1/20\n",
      "44100/44100 [==============================] - 47s - loss: 0.5014 - acc: 0.8430 - val_loss: 0.1327 - val_acc: 0.9610\n",
      "Epoch 2/20\n",
      "44100/44100 [==============================] - 46s - loss: 0.1763 - acc: 0.9463 - val_loss: 0.0918 - val_acc: 0.9692\n",
      "Epoch 3/20\n",
      "44100/44100 [==============================] - 47s - loss: 0.1380 - acc: 0.9572 - val_loss: 0.0695 - val_acc: 0.9757\n",
      "Epoch 4/20\n",
      "44100/44100 [==============================] - 47s - loss: 0.1172 - acc: 0.9637 - val_loss: 0.0653 - val_acc: 0.9784\n",
      "Epoch 5/20\n",
      "44100/44100 [==============================] - 46s - loss: 0.1015 - acc: 0.9691 - val_loss: 0.0547 - val_acc: 0.9816\n",
      "Epoch 6/20\n",
      "44100/44100 [==============================] - 46s - loss: 0.0909 - acc: 0.9711 - val_loss: 0.0533 - val_acc: 0.9816\n",
      "Epoch 7/20\n",
      "44100/44100 [==============================] - 46s - loss: 0.0805 - acc: 0.9753 - val_loss: 0.0549 - val_acc: 0.9820\n",
      "Epoch 8/20\n",
      "44100/44100 [==============================] - 46s - loss: 0.0780 - acc: 0.9761 - val_loss: 0.0488 - val_acc: 0.9847\n",
      "Epoch 9/20\n",
      "44100/44100 [==============================] - 46s - loss: 0.0729 - acc: 0.9780 - val_loss: 0.0457 - val_acc: 0.9865\n",
      "Epoch 10/20\n",
      "44100/44100 [==============================] - 46s - loss: 0.0681 - acc: 0.9783 - val_loss: 0.0451 - val_acc: 0.9847\n",
      "Epoch 11/20\n",
      "44100/44100 [==============================] - 48s - loss: 0.0673 - acc: 0.9790 - val_loss: 0.0390 - val_acc: 0.9876\n",
      "Epoch 12/20\n",
      "44100/44100 [==============================] - 48s - loss: 0.0613 - acc: 0.9807 - val_loss: 0.0381 - val_acc: 0.9873\n",
      "Epoch 13/20\n",
      "44100/44100 [==============================] - 46s - loss: 0.0586 - acc: 0.9820 - val_loss: 0.0437 - val_acc: 0.9859\n",
      "Epoch 14/20\n",
      "44100/44100 [==============================] - 46s - loss: 0.0553 - acc: 0.9820 - val_loss: 0.0382 - val_acc: 0.9880\n",
      "Epoch 15/20\n",
      "44100/44100 [==============================] - 48s - loss: 0.0533 - acc: 0.9827 - val_loss: 0.0397 - val_acc: 0.9882\n",
      "Epoch 16/20\n",
      "44100/44100 [==============================] - 48s - loss: 0.0524 - acc: 0.9832 - val_loss: 0.0379 - val_acc: 0.9884\n",
      "Epoch 17/20\n",
      "44100/44100 [==============================] - 48s - loss: 0.0498 - acc: 0.9841 - val_loss: 0.0345 - val_acc: 0.9884\n",
      "Epoch 18/20\n",
      "44100/44100 [==============================] - 47s - loss: 0.0456 - acc: 0.9854 - val_loss: 0.0351 - val_acc: 0.9898\n",
      "Epoch 19/20\n",
      "44100/44100 [==============================] - 47s - loss: 0.0446 - acc: 0.9851 - val_loss: 0.0369 - val_acc: 0.9878\n",
      "Epoch 20/20\n",
      "44100/44100 [==============================] - 47s - loss: 0.0431 - acc: 0.9864 - val_loss: 0.0386 - val_acc: 0.9886\n"
     ]
    }
   ],
   "source": [
    "#training\n",
    "model.compile(loss='categorical_crossentropy', optimizer='adam', metrics=['accuracy'])\n",
    "trainHistory = model.fit(x=train_x, y=train_y, validation_split=0.1, epochs=20, batch_size=128, verbose=1)"
   ]
  },
  {
   "cell_type": "code",
   "execution_count": 16,
   "metadata": {},
   "outputs": [
    {
     "data": {
      "image/png": "[encoded data removed]",
      "text/plain": [
       "<matplotlib.figure.Figure at 0x2c9c633cd68>"
      ]
     },
     "metadata": {},
     "output_type": "display_data"
    },
    {
     "data": {
      "image/png": "[encoded data removed]",
      "text/plain": [
       "<matplotlib.figure.Figure at 0x2c9c633c978>"
      ]
     },
     "metadata": {},
     "output_type": "display_data"
    }
   ],
   "source": [
    "show_train_history(trainHistory, 'acc', 'val_acc')\n",
    "show_train_history(trainHistory, 'loss', 'val_loss')"
   ]
  },
  {
   "cell_type": "code",
   "execution_count": 17,
   "metadata": {},
   "outputs": [
    {
     "name": "stdout",
     "output_type": "stream",
     "text": [
      "20992/21000 [============================>.] - ETA: 0s"
     ]
    }
   ],
   "source": [
    "#predict\n",
    "pred = model.predict_classes(test_x)\n",
    "filename = test['filename']\n",
    "rs = pd.DataFrame(filename)\n",
    "rs = rs.assign(label =pred)\n",
    "rs.to_csv('sample_submission.csv',index=None)"
   ]
  },
  {
   "cell_type": "code",
   "execution_count": null,
   "metadata": {
    "collapsed": true
   },
   "outputs": [],
   "source": []
  }
 ],
 "metadata": {
  "kernelspec": {
   "display_name": "Python 3",
   "language": "python",
   "name": "python3"
  },
  "language_info": {
   "codemirror_mode": {
    "name": "ipython",
    "version": 3
   },
   "file_extension": ".py",
   "mimetype": "text/x-python",
   "name": "python",
   "nbconvert_exporter": "python",
   "pygments_lexer": "ipython3",
   "version": "3.6.1"
  }
 },
 "nbformat": 4,
 "nbformat_minor": 2
}
